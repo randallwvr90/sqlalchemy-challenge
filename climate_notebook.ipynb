{
 "cells": [
  {
   "cell_type": "code",
   "execution_count": 32,
   "metadata": {},
   "outputs": [],
   "source": [
    "%matplotlib inline\n",
    "from matplotlib import style\n",
    "style.use('fivethirtyeight')\n",
    "import matplotlib.pyplot as plt"
   ]
  },
  {
   "cell_type": "code",
   "execution_count": 33,
   "metadata": {},
   "outputs": [],
   "source": [
    "import numpy as np\n",
    "import pandas as pd\n",
    "import datetime as dt"
   ]
  },
  {
   "cell_type": "markdown",
   "metadata": {},
   "source": [
    "# Reflect Tables into SQLAlchemy ORM"
   ]
  },
  {
   "cell_type": "code",
   "execution_count": 34,
   "metadata": {},
   "outputs": [],
   "source": [
    "# Python SQL toolkit and Object Relational Mapper\n",
    "import sqlalchemy\n",
    "from sqlalchemy.ext.automap import automap_base\n",
    "from sqlalchemy.orm import Session\n",
    "from sqlalchemy import create_engine, func, inspect, distinct"
   ]
  },
  {
   "cell_type": "code",
   "execution_count": 35,
   "metadata": {},
   "outputs": [],
   "source": [
    "# create engine to hawaii.sqlite\n",
    "engine = create_engine(\"sqlite:///Resources/hawaii.sqlite\")"
   ]
  },
  {
   "cell_type": "code",
   "execution_count": 36,
   "metadata": {},
   "outputs": [],
   "source": [
    "# reflect an existing database into a new model\n",
    "Base = automap_base()\n",
    "# reflect the tables\n",
    "Base.prepare(engine, reflect=True)"
   ]
  },
  {
   "cell_type": "code",
   "execution_count": 37,
   "metadata": {},
   "outputs": [
    {
     "data": {
      "text/plain": [
       "['measurement', 'station']"
      ]
     },
     "execution_count": 37,
     "metadata": {},
     "output_type": "execute_result"
    }
   ],
   "source": [
    "# View all of the classes that automap found\n",
    "Base.classes.keys()"
   ]
  },
  {
   "cell_type": "code",
   "execution_count": 38,
   "metadata": {},
   "outputs": [
    {
     "name": "stdout",
     "output_type": "stream",
     "text": [
      "measurements table column headings:\n",
      "id INTEGER\n",
      "station TEXT\n",
      "date TEXT\n",
      "prcp FLOAT\n",
      "tobs FLOAT\n",
      "\n",
      "stations table column headings:\n",
      "id INTEGER\n",
      "station TEXT\n",
      "name TEXT\n",
      "latitude FLOAT\n",
      "longitude FLOAT\n",
      "elevation FLOAT\n"
     ]
    }
   ],
   "source": [
    "# Save references to each table\n",
    "# these two lines are mapping the measurements class and the stations class -RSW\n",
    "#   - is that \"saving references to each table\"? -RSW\n",
    "measurements = Base.classes.measurement\n",
    "stations = Base.classes.station\n",
    "\n",
    "# Find the column headers in each table\n",
    "# This line creates an \"inspector object\" for the target, engine -RSW\n",
    "inspector = inspect(engine)\n",
    "columns = inspector.get_columns('measurement')\n",
    "print('measurements table column headings:')\n",
    "for c in columns:\n",
    "    print(c['name'], c[\"type\"])\n",
    "print('\\nstations table column headings:')\n",
    "columns = inspector.get_columns('station')\n",
    "for c in columns:\n",
    "    print(c['name'], c[\"type\"])"
   ]
  },
  {
   "cell_type": "code",
   "execution_count": 39,
   "metadata": {},
   "outputs": [],
   "source": [
    "# Create our session (link) from Python to the DB\n",
    "session = Session(engine)"
   ]
  },
  {
   "cell_type": "markdown",
   "metadata": {},
   "source": [
    "# Exploratory Precipitation Analysis"
   ]
  },
  {
   "cell_type": "code",
   "execution_count": 40,
   "metadata": {},
   "outputs": [
    {
     "name": "stdout",
     "output_type": "stream",
     "text": [
      "Most Recent Measurement: 2017-08-23\n"
     ]
    }
   ],
   "source": [
    "# Find the most recent date in the data set.\n",
    "\n",
    "# session.query() returns a Query object\n",
    "# .all() returns a list of everything returned in the Query object\n",
    "sortedByDate = session.query(measurements).order_by(measurements.date).all()\n",
    "print('Most Recent Measurement: ' + sortedByDate[-1].date)"
   ]
  },
  {
   "cell_type": "code",
   "execution_count": 41,
   "metadata": {},
   "outputs": [
    {
     "data": {
      "text/html": [
       "<div>\n",
       "<style scoped>\n",
       "    .dataframe tbody tr th:only-of-type {\n",
       "        vertical-align: middle;\n",
       "    }\n",
       "\n",
       "    .dataframe tbody tr th {\n",
       "        vertical-align: top;\n",
       "    }\n",
       "\n",
       "    .dataframe thead th {\n",
       "        text-align: right;\n",
       "    }\n",
       "</style>\n",
       "<table border=\"1\" class=\"dataframe\">\n",
       "  <thead>\n",
       "    <tr style=\"text-align: right;\">\n",
       "      <th></th>\n",
       "      <th>PRCP</th>\n",
       "    </tr>\n",
       "    <tr>\n",
       "      <th>Date</th>\n",
       "      <th></th>\n",
       "    </tr>\n",
       "  </thead>\n",
       "  <tbody>\n",
       "    <tr>\n",
       "      <th>2017-02-21</th>\n",
       "      <td>0.06</td>\n",
       "    </tr>\n",
       "    <tr>\n",
       "      <th>2017-02-21</th>\n",
       "      <td>0.00</td>\n",
       "    </tr>\n",
       "    <tr>\n",
       "      <th>2017-02-21</th>\n",
       "      <td>0.00</td>\n",
       "    </tr>\n",
       "    <tr>\n",
       "      <th>2017-02-21</th>\n",
       "      <td>NaN</td>\n",
       "    </tr>\n",
       "    <tr>\n",
       "      <th>2017-02-21</th>\n",
       "      <td>0.00</td>\n",
       "    </tr>\n",
       "  </tbody>\n",
       "</table>\n",
       "</div>"
      ],
      "text/plain": [
       "            PRCP\n",
       "Date            \n",
       "2017-02-21  0.06\n",
       "2017-02-21  0.00\n",
       "2017-02-21  0.00\n",
       "2017-02-21   NaN\n",
       "2017-02-21  0.00"
      ]
     },
     "execution_count": 41,
     "metadata": {},
     "output_type": "execute_result"
    }
   ],
   "source": [
    "#### get the info out of each measurement object and then put everything into a DataFrame ####\n",
    "id_list = []\n",
    "station_list = []\n",
    "date_list = []\n",
    "prcp_list = []\n",
    "tobs_list = []\n",
    "for measurement in sortedByDate:\n",
    "    id_list.append(measurement.id)\n",
    "    station_list.append(measurement.station)\n",
    "    date_list.append(measurement.date)\n",
    "    prcp_list.append(measurement.prcp)\n",
    "    tobs_list.append(measurement.tobs)\n",
    "\n",
    "measurementsDict = {\n",
    "    'ID': id_list,\n",
    "    'Station': station_list,\n",
    "    'Date': date_list,\n",
    "    'PRCP': prcp_list,\n",
    "    'TOBS': tobs_list\n",
    "}\n",
    "measurementsDF = pd.DataFrame(measurementsDict)\n",
    "\n",
    "#### pare it down to the last six months ####\n",
    "\n",
    "# six months multiplied by the approx average number of days in a month\n",
    "sixMonthsInDays = int(6*30.5)\n",
    "# use np.datetime64 and np.timedelta64 to get the date six months before the last measurement\n",
    "firstDate = np.datetime64(measurementsDF.iloc[-1,:]['Date']) - np.timedelta64(sixMonthsInDays, 'D')\n",
    "# now use .loc to remove measurements taken before firstDate\n",
    "measurementsDF = measurementsDF.loc[measurementsDF['Date']>=str(firstDate),:]\n",
    "measurementsDF = measurementsDF[['Date','PRCP']]\n",
    "measurementsDF = measurementsDF.set_index('Date')\n",
    "measurementsDF = measurementsDF.sort_index() # I believe it was already sorted by date...\n",
    "measurementsDF.head()"
   ]
  },
  {
   "cell_type": "code",
   "execution_count": 42,
   "metadata": {},
   "outputs": [
    {
     "data": {
      "image/png": "[encoded data removed]",
      "text/plain": [
       "<Figure size 432x288 with 1 Axes>"
      ]
     },
     "metadata": {},
     "output_type": "display_data"
    }
   ],
   "source": [
    "# plot the results using DataFrame.plot()\n",
    "chart = measurementsDF.plot(rot = 90, title = 'Six Months of Precipitation Data', ylabel = 'Rainfall (Inches)')"
   ]
  },
  {
   "cell_type": "code",
   "execution_count": 43,
   "metadata": {},
   "outputs": [
    {
     "data": {
      "text/html": [
       "<div>\n",
       "<style scoped>\n",
       "    .dataframe tbody tr th:only-of-type {\n",
       "        vertical-align: middle;\n",
       "    }\n",
       "\n",
       "    .dataframe tbody tr th {\n",
       "        vertical-align: top;\n",
       "    }\n",
       "\n",
       "    .dataframe thead th {\n",
       "        text-align: right;\n",
       "    }\n",
       "</style>\n",
       "<table border=\"1\" class=\"dataframe\">\n",
       "  <thead>\n",
       "    <tr style=\"text-align: right;\">\n",
       "      <th></th>\n",
       "      <th>PRCP</th>\n",
       "    </tr>\n",
       "  </thead>\n",
       "  <tbody>\n",
       "    <tr>\n",
       "      <th>count</th>\n",
       "      <td>981.000000</td>\n",
       "    </tr>\n",
       "    <tr>\n",
       "      <th>mean</th>\n",
       "      <td>0.164363</td>\n",
       "    </tr>\n",
       "    <tr>\n",
       "      <th>std</th>\n",
       "      <td>0.421057</td>\n",
       "    </tr>\n",
       "    <tr>\n",
       "      <th>min</th>\n",
       "      <td>0.000000</td>\n",
       "    </tr>\n",
       "    <tr>\n",
       "      <th>25%</th>\n",
       "      <td>0.000000</td>\n",
       "    </tr>\n",
       "    <tr>\n",
       "      <th>50%</th>\n",
       "      <td>0.010000</td>\n",
       "    </tr>\n",
       "    <tr>\n",
       "      <th>75%</th>\n",
       "      <td>0.120000</td>\n",
       "    </tr>\n",
       "    <tr>\n",
       "      <th>max</th>\n",
       "      <td>6.250000</td>\n",
       "    </tr>\n",
       "  </tbody>\n",
       "</table>\n",
       "</div>"
      ],
      "text/plain": [
       "             PRCP\n",
       "count  981.000000\n",
       "mean     0.164363\n",
       "std      0.421057\n",
       "min      0.000000\n",
       "25%      0.000000\n",
       "50%      0.010000\n",
       "75%      0.120000\n",
       "max      6.250000"
      ]
     },
     "execution_count": 43,
     "metadata": {},
     "output_type": "execute_result"
    }
   ],
   "source": [
    "# Use Pandas to print the summary statistics for the precipitation data\n",
    "measurementsDF.describe()"
   ]
  },
  {
   "cell_type": "markdown",
   "metadata": {},
   "source": [
    "# Exploratory Station Analysis"
   ]
  },
  {
   "cell_type": "code",
   "execution_count": 72,
   "metadata": {},
   "outputs": [
    {
     "name": "stdout",
     "output_type": "stream",
     "text": [
      "There are 9 stations in the data set.\n",
      "their names are: \n",
      "USC00519397\n",
      "USC00513117\n",
      "USC00514830\n",
      "USC00517948\n",
      "USC00518838\n",
      "USC00519523\n",
      "USC00519281\n",
      "USC00511918\n",
      "USC00516128\n"
     ]
    }
   ],
   "source": [
    "# Design a query to calculate the total number stations in the dataset\n",
    "distinctStations = session.query(stations).distinct().all()\n",
    "numStations = len(distinctStations)\n",
    "print(\"There are \" + str(numStations) + \" stations in the data set.\")\n",
    "print('their names are: ')\n",
    "for station in distinctStations:\n",
    "    print(station.station)"
   ]
  },
  {
   "cell_type": "code",
   "execution_count": 91,
   "metadata": {},
   "outputs": [
    {
     "name": "stdout",
     "output_type": "stream",
     "text": [
      "Stations by number of records\n",
      "\n",
      "Station        Records\n",
      "USC00519281    2772\n",
      "USC00519397    2724\n",
      "USC00513117    2709\n",
      "USC00519523    2669\n",
      "USC00516128    2612\n",
      "USC00514830    2202\n",
      "USC00511918    1979\n",
      "USC00517948    1372\n",
      "USC00518838    511\n",
      "\n",
      "\n",
      "The most active station is USC00519281, with 2772 recorded observations.\n"
     ]
    }
   ],
   "source": [
    "# Design a query to find the most active stations (i.e. what stations have the most rows?)\n",
    "# List the stations and the counts in descending order.\n",
    "aCount = func.count('*').label('count')\n",
    "stationsByActivity = session.query(aCount, measurements.station).\\\n",
    "    group_by(measurements.station).order_by(aCount.desc())\n",
    "print('Stations by number of records\\n\\nStation        Records')\n",
    "for station in stationsByActivity:\n",
    "    print(station.station, '  ', station.count)\n",
    "    \n",
    "mostActiveStationRecord = stationsByActivity.all()[0]\n",
    "print(f'\\n\\nThe most active station is {mostActiveStationRecord[1]}, '+\n",
    "      f'with {mostActiveStationRecord[0]} recorded observations.')"
   ]
  },
  {
   "cell_type": "code",
   "execution_count": 105,
   "metadata": {},
   "outputs": [
    {
     "name": "stdout",
     "output_type": "stream",
     "text": [
      "Temperature statistics for station USC00519281:\n",
      "Minimum observed temperature: 54.0\n",
      "Maximum observed temperature: 85.0\n",
      "Average observed temperature: 71.7\n"
     ]
    }
   ],
   "source": [
    "# Using the most active station id from the previous query, calculate the lowest, highest, and average temperature.\n",
    "selector = [func.min(measurements.tobs), func.max(measurements.tobs), func.avg(measurements.tobs)]\n",
    "activeStationTempStats = session.query(*selector).filter(measurements.station == mostActiveStationRecord[1]).all()\n",
    "print(f'Temperature statistics for station {mostActiveStationRecord[1]}:')\n",
    "print(f'Minimum observed temperature: {activeStationTempStats[0][0]}')\n",
    "print(f'Maximum observed temperature: {activeStationTempStats[0][1]}')\n",
    "print(f'Average observed temperature: ' + '{:.1f}'.format(activeStationTempStats[0][2]))"
   ]
  },
  {
   "cell_type": "code",
   "execution_count": 143,
   "metadata": {},
   "outputs": [
    {
     "data": {
      "image/png": "[encoded data removed]",
      "text/plain": [
       "<Figure size 432x288 with 1 Axes>"
      ]
     },
     "metadata": {},
     "output_type": "display_data"
    }
   ],
   "source": [
    "# Using the most active station id\n",
    "# Query the last 12 months of temperature observation data for this station and plot the results as a histogram\n",
    "queryDate = dt.date.fromisoformat(sortedByDate[-1].date) - dt.timedelta(days = 365)\n",
    "activeStationTempData = session.query(measurements.tobs).\\\n",
    "    filter(measurements.station == mostActiveStationRecord[1]).\\\n",
    "    filter(measurements.date > queryDate)\n",
    "activeStationTempDF = pd.DataFrame(activeStationTempData)\n",
    "\n",
    "activeStationTempDF.plot.hist(bins=12)\n",
    "plt.legend(loc='best')\n",
    "plt.xlabel('Temperature')\n",
    "plt.ylabel('Observation Frequency')\n",
    "plt.title(f'Temperature Observations at station {mostActiveStationRecord[1]}\\n')\n",
    "plt.show()"
   ]
  },
  {
   "cell_type": "markdown",
   "metadata": {},
   "source": [
    "# Close session"
   ]
  },
  {
   "cell_type": "code",
   "execution_count": 144,
   "metadata": {},
   "outputs": [],
   "source": [
    "# Close Session\n",
    "session.close()"
   ]
  },
  {
   "cell_type": "code",
   "execution_count": null,
   "metadata": {},
   "outputs": [],
   "source": []
  }
 ],
 "metadata": {
  "anaconda-cloud": {},
  "kernel_info": {
   "name": "python3"
  },
  "kernelspec": {
   "display_name": "Python 3 (ipykernel)",
   "language": "python",
   "name": "python3"
  },
  "language_info": {
   "codemirror_mode": {
    "name": "ipython",
    "version": 3
   },
   "file_extension": ".py",
   "mimetype": "text/x-python",
   "name": "python",
   "nbconvert_exporter": "python",
   "pygments_lexer": "ipython3",
   "version": "3.9.7"
  },
  "nteract": {
   "version": "0.12.3"
  },
  "varInspector": {
   "cols": {
    "lenName": 16,
    "lenType": 16,
    "lenVar": 40
   },
   "kernels_config": {
    "python": {
     "delete_cmd_postfix": "",
     "delete_cmd_prefix": "del ",
     "library": "var_list.py",
     "varRefreshCmd": "print(var_dic_list())"
    },
    "r": {
     "delete_cmd_postfix": ") ",
     "delete_cmd_prefix": "rm(",
     "library": "var_list.r",
     "varRefreshCmd": "cat(var_dic_list()) "
    }
   },
   "types_to_exclude": [
    "module",
    "function",
    "builtin_function_or_method",
    "instance",
    "_Feature"
   ],
   "window_display": false
  }
 },
 "nbformat": 4,
 "nbformat_minor": 2
}
